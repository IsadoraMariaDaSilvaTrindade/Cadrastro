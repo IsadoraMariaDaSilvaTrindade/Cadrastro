{
  "nbformat": 4,
  "nbformat_minor": 0,
  "metadata": {
    "colab": {
      "provenance": [],
      "authorship_tag": "ABX9TyNsTjTNUPGo8wDvbpCg5dPR",
      "include_colab_link": true
    },
    "kernelspec": {
      "name": "python3",
      "display_name": "Python 3"
    },
    "language_info": {
      "name": "python"
    }
  },
  "cells": [
    {
      "cell_type": "markdown",
      "metadata": {
        "id": "view-in-github",
        "colab_type": "text"
      },
      "source": [
        "<a href=\"https://colab.research.google.com/github/IsadoraMariaDaSilvaTrindade/Cadrastro/blob/main/Codigo_cadrastro.ipynb\" target=\"_parent\"><img src=\"https://colab.research.google.com/assets/colab-badge.svg\" alt=\"Open In Colab\"/></a>"
      ]
    },
    {
      "cell_type": "code",
      "source": [
        "print(\"Olá, seja bem-vindo\")\n",
        "usuario = input(\"Insira seu usuario cadrastrado\")\n",
        "senha = input(\"Insira a sua senha\")\n",
        "if usuario == \"Adm\" and senha == \"Vinho_Vermelho\":\n",
        "  print(\"Escolha uma forma de cadastro\")\n",
        "  print( 'cadastro direto :1')\n",
        "  print(' cadastro de professor:2')\n",
        "  print(' cadastro do aluno:3 ')\n",
        "  print(' usar a calculadora:4')\n",
        "cadastro =  input(\"Digite opção a mais apropiada :\")\n",
        "if not cadastro == \"cadastro direto\" or \"1\":\n",
        "  print(\"Escolha outra maneira de cadrastro\")\n",
        "else:\n",
        "  print(\"Forma de cadastro direto \")\n",
        "usuario1= input(\"Digite seu usuario:  \")\n",
        "senha1= input(\"Digite sua senha:  \")\n",
        "elmx= input(\"Digite seu id:  \")\n",
        "print(\"Seu usuario é  \", usuario1)\n",
        "print(\"Sua senha é\", senha1)\n",
        "print(\"Seu id é\",elmx)\n",
        "if not cadastro == \"cadastro de professor\" or \"2\":\n",
        "  print(\"Escolha outra forma de cadastro\")\n",
        "else:\n",
        " print(\"Forma de cadastro professor\")\n",
        "usuario2 = input(\"Digite seu nome:  \")\n",
        "materia= input(\"Digite a materia que você lesiona  :\")\n",
        "senha2= input(\"Digit sua senha:  \")\n",
        "elmx2 = input(\"Digite seu id:  \")\n",
        "print(\"Seu nome de usuario é\", usuario2)\n",
        "print(\"Sua materia é\",materia)\n",
        "print(\"Sua senha é\",senha2)\n",
        "print(\"Seu id é\",elmx2)\n",
        "if not cadastro == \"cadastro do aluno\"or \"1\":\n",
        "  print(\"Escolha outro modo de cadastro\")\n",
        "else:\n",
        "  print(\"Forma de cadastro aluno\")\n",
        "usuario3= input(\"Digite seu usuario:\")\n",
        "materiaaluno = input(\"Digite sua materia:\")\n",
        "senha3 = input(\"Digite sua senha:\")\n",
        "ano_de_curso = input(\"Digite o ano que está cursando:\")\n",
        "print(\"Seu usuario é\", usuario3)\n",
        "print(\"Sua materia é\",materiaaluno)\n",
        "print(\"Sua senha é\",senha3)\n",
        "print(\"Seu ano é\",ano_de_curso)\n",
        "if not cadastro == \"calculadora\" or \"4\":\n",
        "  print(\"Escolha outra maneira de cadrastro\")\n",
        "else:\n",
        "  print(\"Forma de cadastro: calculadora or 1\")\n",
        "print(\"Selecione a operação desejada:\")\n",
        "print(\"1 adição\")\n",
        "print(\"2 subtração\")\n",
        "print(\"3 multiplicação\")\n",
        "print(\"4 divisão\")\n",
        "\n",
        "opcao = input(\"Digite o numero da operação de desejada(1/2/3/4):\")\n",
        "\n",
        "numero1 = float(input(\"digite o primeiro número:\"))\n",
        "numero2 = float(input(\"dgite o segundo número: \"))\n",
        "\n",
        "if opcao == '1':\n",
        "  resultado = numero1 + numero2\n",
        "  print(\"Resultado\", resultado)\n",
        "elif opcao == '2':\n",
        "  resultado = numero1 - numero2\n",
        "  print(\"Resultado\", resultado)\n",
        "elif opcao == '3':\n",
        "  resultado = numero1*numero2\n",
        "  print(\"Resultado\", resultado)\n",
        "elif opcao == '4':\n",
        "  if numero2 !=0:\n",
        "    resultado = numero1/numero2\n",
        "    print(\"Resultado\", resultado)\n",
        "  else:\n",
        "      print(\"Erro: divisão por zero!\")\n",
        "else:\n",
        "      print(\"Opção invalida. Por favor, escolher uma opção valida.\")\n",
        "      print(\"Usuario e senha incorretos\")"
      ],
      "metadata": {
        "id": "CY-Iv_ikbVYY",
        "outputId": "dc5aa07c-1b68-4006-a908-5bc3cbe86a4b",
        "colab": {
          "base_uri": "https://localhost:8080/",
          "height": 852
        }
      },
      "execution_count": null,
      "outputs": [
        {
          "name": "stdout",
          "output_type": "stream",
          "text": [
            "Olá, seja bem-vindo\n",
            "Insira seu usuario cadrastrado\n",
            "Insira a sua senha\n",
            "Digite opção a mais apropiada :\n",
            "Escolha outra maneira de cadrastro\n",
            "Digite seu usuario:  \n",
            "Digite sua senha:  \n",
            "Digite seu id:  \n",
            "Seu usuario é   \n",
            "Sua senha é \n",
            "Seu id é \n",
            "Escolha outra forma de cadastro\n",
            "Digite seu nome:  \n",
            "Digite a materia que você lesiona  :\n",
            "Digit sua senha:  \n",
            "Digite seu id:  \n",
            "Seu nome de usuario é \n",
            "Sua materia é \n",
            "Sua senha é \n",
            "Seu id é \n",
            "Escolha outro modo de cadastro\n",
            "Digite seu usuario:\n",
            "Digite sua materia:\n",
            "Digite sua senha:\n",
            "Digite o ano que está cursando:\n",
            "Seu usuario é \n",
            "Sua materia é \n",
            "Sua senha é \n",
            "Seu ano é \n",
            "Escolha outra maneira de cadrastro\n",
            "Selecione a operação desejada:\n",
            "1 adição\n",
            "2 subtração\n",
            "3 multiplicação\n",
            "4 divisão\n",
            "Digite o numero da operação de desejada(1/2/3/4):\n",
            "digite o primeiro número:\n"
          ]
        },
        {
          "output_type": "error",
          "ename": "ValueError",
          "evalue": "could not convert string to float: ''",
          "traceback": [
            "\u001b[0;31m---------------------------------------------------------------------------\u001b[0m",
            "\u001b[0;31mValueError\u001b[0m                                Traceback (most recent call last)",
            "\u001b[0;32m<ipython-input-2-b8d928a12efa>\u001b[0m in \u001b[0;36m<cell line: 57>\u001b[0;34m()\u001b[0m\n\u001b[1;32m     55\u001b[0m \u001b[0mopcao\u001b[0m \u001b[0;34m=\u001b[0m \u001b[0minput\u001b[0m\u001b[0;34m(\u001b[0m\u001b[0;34m\"Digite o numero da operação de desejada(1/2/3/4):\"\u001b[0m\u001b[0;34m)\u001b[0m\u001b[0;34m\u001b[0m\u001b[0;34m\u001b[0m\u001b[0m\n\u001b[1;32m     56\u001b[0m \u001b[0;34m\u001b[0m\u001b[0m\n\u001b[0;32m---> 57\u001b[0;31m \u001b[0mnumero1\u001b[0m \u001b[0;34m=\u001b[0m \u001b[0mfloat\u001b[0m\u001b[0;34m(\u001b[0m\u001b[0minput\u001b[0m\u001b[0;34m(\u001b[0m\u001b[0;34m\"digite o primeiro número:\"\u001b[0m\u001b[0;34m)\u001b[0m\u001b[0;34m)\u001b[0m\u001b[0;34m\u001b[0m\u001b[0;34m\u001b[0m\u001b[0m\n\u001b[0m\u001b[1;32m     58\u001b[0m \u001b[0mnumero2\u001b[0m \u001b[0;34m=\u001b[0m \u001b[0mfloat\u001b[0m\u001b[0;34m(\u001b[0m\u001b[0minput\u001b[0m\u001b[0;34m(\u001b[0m\u001b[0;34m\"dgite o segundo número: \"\u001b[0m\u001b[0;34m)\u001b[0m\u001b[0;34m)\u001b[0m\u001b[0;34m\u001b[0m\u001b[0;34m\u001b[0m\u001b[0m\n\u001b[1;32m     59\u001b[0m \u001b[0;34m\u001b[0m\u001b[0m\n",
            "\u001b[0;31mValueError\u001b[0m: could not convert string to float: ''"
          ]
        }
      ]
    },
    {
      "cell_type": "code",
      "source": [],
      "metadata": {
        "id": "O05Rr8Qo7HQ6"
      },
      "execution_count": null,
      "outputs": []
    }
  ]
}